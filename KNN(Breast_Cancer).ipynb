{
  "nbformat": 4,
  "nbformat_minor": 0,
  "metadata": {
    "colab": {
      "provenance": [],
      "authorship_tag": "ABX9TyPQC/oFX2NRUtobVgiC/3A8",
      "include_colab_link": true
    },
    "kernelspec": {
      "name": "python3",
      "display_name": "Python 3"
    },
    "language_info": {
      "name": "python"
    }
  },
  "cells": [
    {
      "cell_type": "markdown",
      "metadata": {
        "id": "view-in-github",
        "colab_type": "text"
      },
      "source": [
        "<a href=\"https://colab.research.google.com/github/Shreyash606/KNN-/blob/main/KNN(Breast_Cancer).ipynb\" target=\"_parent\"><img src=\"https://colab.research.google.com/assets/colab-badge.svg\" alt=\"Open In Colab\"/></a>"
      ]
    },
    {
      "cell_type": "code",
      "execution_count": 13,
      "metadata": {
        "id": "yrDN4CrUj8WZ"
      },
      "outputs": [],
      "source": [
        "from csv import reader\n",
        "from math import sqrt\n",
        "from random import randrange\n",
        "from sklearn.model_selection import KFold\n",
        "from sklearn.neighbors import KNeighborsClassifier\n",
        "from sklearn.metrics import accuracy_score\n",
        "from sklearn.preprocessing import LabelEncoder\n",
        "import numpy as np\n",
        "from decimal import Decimal\n",
        "from scipy import stats\n",
        "from google.colab import files"
      ]
    },
    {
      "cell_type": "code",
      "source": [
        "# Load a CSV file\n",
        "def load_csv(filename):\n",
        "    dataset = list()\n",
        "    with open(filename, 'r') as file:\n",
        "        csv_reader = reader(file)\n",
        "        for row in csv_reader:\n",
        "            if not row:\n",
        "                continue\n",
        "            dataset.append(row)\n",
        "    return dataset"
      ],
      "metadata": {
        "id": "g_cEhZXukHQG"
      },
      "execution_count": 2,
      "outputs": []
    },
    {
      "cell_type": "code",
      "source": [
        "# Convert string column to integer using label encoding\n",
        "def str_column_to_int(dataset, column):\n",
        "    class_values = [row[column] for row in dataset]\n",
        "    unique = set(class_values)\n",
        "    lookup = dict()\n",
        "    for i, value in enumerate(unique):\n",
        "        lookup[value] = i\n",
        "    for row in dataset:\n",
        "        row[column] = lookup[row[column]]\n",
        "    return lookup"
      ],
      "metadata": {
        "id": "ir_Hgns3kIj7"
      },
      "execution_count": 3,
      "outputs": []
    },
    {
      "cell_type": "code",
      "source": [
        "\n",
        "# Calculate Minkowski distance\n",
        "def getMinkowskiDistance(vector1, vector2, k):\n",
        "    distance = 0.0\n",
        "    for i in range(1,len(vector1)):\n",
        "        distance += pow(abs(vector1[i]-vector2[i]), k)\n",
        "\n",
        "    root = 1 / (float(k))\n",
        "    return round (Decimal(distance) ** Decimal(root), 5)\n"
      ],
      "metadata": {
        "id": "OvShP2QTkKSm"
      },
      "execution_count": 4,
      "outputs": []
    },
    {
      "cell_type": "code",
      "source": [
        "# Calculate the Euclidean distance between two vectors\n",
        "def euclidean_distance(vector1, vector2):\n",
        "    distance = 0.0\n",
        "    for i in range(1,len(vector1)):  # Exclude the label column\n",
        "        distance += (vector1[i] - vector2[i]) ** 2\n",
        "    return sqrt(distance)\n"
      ],
      "metadata": {
        "id": "Xn3jgn9AkMCL"
      },
      "execution_count": 5,
      "outputs": []
    },
    {
      "cell_type": "code",
      "source": [
        "# KNN Algorithm with 10-fold cross-validation\n",
        "def customKNNAlgorithm(train, test, num_neighbors):\n",
        "    predictions = list()\n",
        "    for row in test:\n",
        "        output = predict_classification(train, row, num_neighbors)\n",
        "        predictions.append(output)\n",
        "    return predictions\n"
      ],
      "metadata": {
        "id": "v9r23Yp7kNve"
      },
      "execution_count": 6,
      "outputs": []
    },
    {
      "cell_type": "code",
      "source": [
        "def scikitKNN(train_set,test_set, num_neighbors_sklearn):\n",
        "    # Train and evaluate scikit-learn k-NN\n",
        "    X = np.array([row[1:] for row in train_set])\n",
        "    y = np.array([row[0] for row in train_set])\n",
        "\n",
        "    # Initialize k-NN classifier for scikit-learn\n",
        "    knn_classifier = KNeighborsClassifier(n_neighbors=num_neighbors_sklearn)\n",
        "    knn_classifier.fit(X, y)\n",
        "    X_test_sklearn = np.array([row[1:] for row in test_set])\n",
        "    predictions_sklearn = knn_classifier.predict(X_test_sklearn)\n",
        "    return predictions_sklearn\n"
      ],
      "metadata": {
        "id": "of0P3OcYkQyI"
      },
      "execution_count": 7,
      "outputs": []
    },
    {
      "cell_type": "code",
      "source": [
        "# Locate the most similar neighbors\n",
        "def get_neighbors(train, test_row, num_neighbors):\n",
        "    # distances = [(train_row, euclidean_distance(test_row, train_row)) for train_row in train]\n",
        "    distances = [(train_row, getMinkowskiDistance(test_row, train_row ,2 )) for train_row in train]\n",
        "    distances.sort(key=lambda x: x[1])\n",
        "    neighbors = [row for row, _ in distances[:num_neighbors]]\n",
        "    return neighbors"
      ],
      "metadata": {
        "id": "I1PNxnfskSfB"
      },
      "execution_count": 8,
      "outputs": []
    },
    {
      "cell_type": "code",
      "source": [
        "# Make a prediction with neighbors\n",
        "def predict_classification(train, test_row, num_neighbors):\n",
        "    neighbors = get_neighbors(train, test_row, num_neighbors)\n",
        "    output_values = [row[0] for row in neighbors]\n",
        "    prediction = max(set(output_values), key=output_values.count)\n",
        "    return prediction"
      ],
      "metadata": {
        "id": "_BOm1Ab-kUuz"
      },
      "execution_count": 9,
      "outputs": []
    },
    {
      "cell_type": "code",
      "source": [
        "def cross_validation_split(dataset, n_folds):\n",
        " dataset_split = list()\n",
        " dataset_copy = list(dataset)\n",
        " fold_size = int(len(dataset) / n_folds)\n",
        " for _ in range(n_folds):\n",
        "    fold = list()\n",
        "    while len(fold) < fold_size:\n",
        "        index = randrange(len(dataset_copy))\n",
        "        fold.append(dataset_copy.pop(index))\n",
        "    dataset_split.append(fold)\n",
        " return dataset_split\n"
      ],
      "metadata": {
        "id": "fVcNxDu-kWRj"
      },
      "execution_count": 10,
      "outputs": []
    },
    {
      "cell_type": "code",
      "source": [
        "# Calculate accuracy percentage\n",
        "def getAccuracy(actual, predicted):\n",
        "    n_correct_predictions = 0\n",
        "    for i in range(len(actual)):\n",
        "        if actual[i] == predicted[i]:\n",
        "            n_correct_predictions += 1\n",
        "    return (n_correct_predictions * 100.0)/ float(len(actual))\n"
      ],
      "metadata": {
        "id": "xlh04F10kX1A"
      },
      "execution_count": 11,
      "outputs": []
    },
    {
      "cell_type": "code",
      "source": [
        "# Main function\n",
        "if __name__ == \"__main__\":\n",
        "\n",
        "    # Load the dataset from a .data file using pandas\n",
        "    filename = 'breast-cancer.data'\n",
        "    # Number of neighbours for knn\n",
        "    n_neighbours = 5\n",
        "\n",
        "    # Number of splits for k-fold cross-validation\n",
        "    n_folds = 10\n",
        "\n",
        "    # Type of distance used\n",
        "    distance = euclidean_distance\n",
        "\n",
        "    dataset_name = (filename.split(\"/\")[-1]).split(\".\")[0]\n",
        "    print(\"---------------------------------------------------------------------------------\")\n",
        "    print(dataset_name.upper())\n",
        "    print(\"---------------------------------------------------------------------------------\")\n",
        "\n",
        "    dataset = load_csv(filename)\n",
        "\n",
        "    # Convert string columns to integers using label encoding\n",
        "    for i in range(1,len(dataset[0])):\n",
        "        str_column_to_int(dataset, i)\n",
        "\n",
        "\n",
        "\n",
        "    print(\"Number of neighbours in KNN : \", n_neighbours)\n",
        "    print(\"Number of k folds for K fold cross validation : \", n_folds)\n",
        "\n",
        "\n",
        "    accuracy_scores_custom = []\n",
        "    accuracy_scores_sklearn = []\n",
        "\n",
        "    # Initialize k-fold cross-validation\n",
        "    folds = cross_validation_split(dataset, n_folds)\n",
        "    scores = list()\n",
        "    for fold in folds:\n",
        "        train_set = list(folds)\n",
        "        train_set.remove(fold)\n",
        "        train_set = sum(train_set, [])\n",
        "        test_set = list()\n",
        "        for row in fold:\n",
        "            row_copy = list(row)\n",
        "            test_set.append(row_copy)\n",
        "            # row_copy[-1] = None\n",
        "\n",
        "        #Get results from Custom KNN algorithm\n",
        "        predicted_custom = customKNNAlgorithm(train_set, test_set, n_neighbours)\n",
        "\n",
        "        #Get results from Scikitlearn's KNN algorithm\n",
        "        predicted_sk = scikitKNN(train_set, test_set, n_neighbours)\n",
        "\n",
        "        actual = [row[0] for row in fold]\n",
        "        accuracy_custom = getAccuracy(actual, predicted_custom)\n",
        "        accuracy_sk = getAccuracy(actual,predicted_sk)\n",
        "        accuracy_scores_custom.append(accuracy_custom)\n",
        "        accuracy_scores_sklearn.append(accuracy_sk)\n",
        "\n",
        "    # Calculate and print the average accuracy across folds for custom k-NN\n",
        "    average_accuracy_custom = np.mean(accuracy_scores_custom)\n",
        "    print(\"\\nCustom k-NN Accuracy: \")\n",
        "    print(accuracy_scores_custom)\n",
        "    print(\"Custom k-NN Average Accuracy: {:.2f}\\n\".format(average_accuracy_custom))\n",
        "\n",
        "    # Calculate and print the average accuracy across folds for scikit-learn k-NN\n",
        "    average_accuracy_sklearn = np.mean(accuracy_scores_sklearn)\n",
        "    print(\"Scikit-learn k-NN Accuracy: \")\n",
        "    print(accuracy_scores_sklearn)\n",
        "    print(\"Scikit-learn k-NN Average Accuracy: {:.2f}\\n\".format(average_accuracy_sklearn))\n",
        "    print(\"---------------------------------------------------------------------------------\")\n",
        "    print(\"HYPOTHESIS TESTING\")\n",
        "\n",
        "    # Perform a paired t-test\n",
        "    t_val, p_val = stats.ttest_rel(accuracy_scores_custom,accuracy_scores_sklearn)\n",
        "    print(\"T-value : \" , t_val)\n",
        "    print(\"P-value : \" , p_val)\n",
        "    print(\"alpha : 0.05\")\n",
        "    print(\"---------------------------------------------------------------------------------\")\n",
        "\n",
        "    # Set the significance level (alpha) for your test\n",
        "    alpha = 0.05\n",
        "\n",
        "    # Check if the p-value is less than alpha\n",
        "    if p_val < alpha:\n",
        "        print('Null hypothesis REJECTED: There is a significant difference.')\n",
        "    else:\n",
        "        print('Null hypothesis ACCEPTED: There is no significant difference.')\n",
        "\n",
        "\n",
        "\n",
        ""
      ],
      "metadata": {
        "colab": {
          "base_uri": "https://localhost:8080/"
        },
        "id": "br91DAi6kZ9i",
        "outputId": "0f96a8ba-17a6-4c34-9afd-6b641ffd87cf"
      },
      "execution_count": 15,
      "outputs": [
        {
          "output_type": "stream",
          "name": "stdout",
          "text": [
            "---------------------------------------------------------------------------------\n",
            "BREAST-CANCER\n",
            "---------------------------------------------------------------------------------\n",
            "Number of neighbours in KNN :  5\n",
            "Number of k folds for K fold cross validation :  10\n",
            "\n",
            "Custom k-NN Accuracy: \n",
            "[64.28571428571429, 57.142857142857146, 78.57142857142857, 60.714285714285715, 60.714285714285715, 64.28571428571429, 50.0, 75.0, 67.85714285714286, 67.85714285714286]\n",
            "Custom k-NN Average Accuracy: 64.64\n",
            "\n",
            "Scikit-learn k-NN Accuracy: \n",
            "[67.85714285714286, 53.57142857142857, 78.57142857142857, 60.714285714285715, 57.142857142857146, 67.85714285714286, 50.0, 67.85714285714286, 67.85714285714286, 67.85714285714286]\n",
            "Scikit-learn k-NN Average Accuracy: 63.93\n",
            "\n",
            "---------------------------------------------------------------------------------\n",
            "HYPOTHESIS TESTING\n",
            "T-value :  0.6882472016116857\n",
            "P-value :  0.5086464915963442\n",
            "alpha : 0.05\n",
            "---------------------------------------------------------------------------------\n",
            "Null hypothesis ACCEPTED: There is no significant difference.\n"
          ]
        }
      ]
    }
  ]
}